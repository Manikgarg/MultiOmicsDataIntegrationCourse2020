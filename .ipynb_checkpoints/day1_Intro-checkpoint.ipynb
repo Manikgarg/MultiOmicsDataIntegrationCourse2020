{
 "cells": [
  {
   "cell_type": "markdown",
   "metadata": {
    "slideshow": {
     "slide_type": "slide"
    }
   },
   "source": [
    "# Comparing different multi-omics data integration tools"
   ]
  },
  {
   "cell_type": "markdown",
   "metadata": {
    "slideshow": {
     "slide_type": "slide"
    }
   },
   "source": [
    "**Aim**\n",
    "\n",
    "During the course participants will get hands-on experience in using different multi-omics data integration tools.\n",
    "\n",
    "- Follow along\n",
    "- Use red sticker to ask for help"
   ]
  },
  {
   "cell_type": "markdown",
   "metadata": {
    "slideshow": {
     "slide_type": "slide"
    }
   },
   "source": [
    "**Schedule - Day2**\n",
    "- 15:45-16:00: [0:15] **Introduction**\n",
    "- 16:00-16:45: [0:45] **Session 2.1** - Revisiting MOFA\n",
    "- 16:45-17:45: [1:00] **Session 2.2** - Integrating multi-omics data using PCA\n",
    "\n",
    "**Schedule - Day3**\n",
    "- 14:30-15:30: [1:00] **Session 3.1** - Integrating multi-omics data using JIVE\n",
    "- 15:30-16:00: [0:30] *Break*\n",
    "- 16:00-17:30: [1:30] **Session 3.2** - Integrating multi-omics data using MCIA\n",
    "\n",
    "**Schedule - Day4**\n",
    "- 14:30-15:30: [1:00] **Session 4.1** - Comparing results obtained from these tools\n",
    "- 15:30-16:00: [0:30] *Break*\n",
    "- 16:00-17:00: [1:00] **Session 4.2** - Understanding advantages and limitations of these tools\n",
    "- 17:00-17:30: [0:45] *Preparing presentation*"
   ]
  },
  {
   "cell_type": "code",
   "execution_count": null,
   "metadata": {},
   "outputs": [],
   "source": []
  }
 ],
 "metadata": {
  "celltoolbar": "Slideshow",
  "kernelspec": {
   "display_name": "R",
   "language": "R",
   "name": "ir"
  },
  "language_info": {
   "codemirror_mode": "r",
   "file_extension": ".r",
   "mimetype": "text/x-r-source",
   "name": "R",
   "pygments_lexer": "r",
   "version": "3.5.1"
  }
 },
 "nbformat": 4,
 "nbformat_minor": 2
}
